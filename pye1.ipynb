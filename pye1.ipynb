{
 "cells": [
  {
   "cell_type": "code",
   "execution_count": 1,
   "id": "29996a7b-41f2-445f-9aac-108c1a8506ab",
   "metadata": {},
   "outputs": [
    {
     "name": "stdout",
     "output_type": "stream",
     "text": [
      "1\n"
     ]
    }
   ],
   "source": [
    "print(1)"
   ]
  },
  {
   "cell_type": "code",
   "execution_count": 2,
   "id": "1f5b5ad8-d898-4c43-9d6a-18c0b3fde868",
   "metadata": {},
   "outputs": [
    {
     "name": "stdout",
     "output_type": "stream",
     "text": [
      "200 is a great number\n"
     ]
    }
   ],
   "source": [
    "print(\"200 is a great number\")"
   ]
  },
  {
   "cell_type": "code",
   "execution_count": 3,
   "id": "16e869f9-3ece-4dff-a2d4-22ef94b8bda1",
   "metadata": {},
   "outputs": [
    {
     "name": "stdout",
     "output_type": "stream",
     "text": [
      "28800\n"
     ]
    }
   ],
   "source": [
    "print(20 * 24 * 60)"
   ]
  },
  {
   "cell_type": "code",
   "execution_count": 4,
   "id": "60ed5cf7-f75e-4445-ae6a-ebbfc0faa327",
   "metadata": {},
   "outputs": [
    {
     "name": "stdout",
     "output_type": "stream",
     "text": [
      "20 days are50minutes\n"
     ]
    }
   ],
   "source": [
    "print(\"20 days are\" + str(50) + \"minutes\")"
   ]
  },
  {
   "cell_type": "code",
   "execution_count": 5,
   "id": "2b11c0b4-23f7-4ef1-a203-987d6d316afe",
   "metadata": {},
   "outputs": [
    {
     "name": "stdout",
     "output_type": "stream",
     "text": [
      "20 days are 50 minutes\n"
     ]
    }
   ],
   "source": [
    "print(\"20 days are \" + str(50) + \" minutes\")"
   ]
  },
  {
   "cell_type": "code",
   "execution_count": 7,
   "id": "55937e63-98ff-40df-b587-f7185d74901c",
   "metadata": {},
   "outputs": [
    {
     "name": "stdout",
     "output_type": "stream",
     "text": [
      "20 days are 50 minutes\n"
     ]
    }
   ],
   "source": [
    "print(f\"20 days are {50} minutes\")"
   ]
  },
  {
   "cell_type": "code",
   "execution_count": 8,
   "id": "edec58d6-a1bd-4f27-ba86-db24dea6d44b",
   "metadata": {},
   "outputs": [
    {
     "name": "stdout",
     "output_type": "stream",
     "text": [
      "20 days are 28800 minutes\n"
     ]
    }
   ],
   "source": [
    "print(f\"20 days are {20*24*60} minutes\")"
   ]
  },
  {
   "cell_type": "code",
   "execution_count": 9,
   "id": "5c239a12-f70b-4178-9f10-348e378bc60a",
   "metadata": {},
   "outputs": [
    {
     "name": "stdout",
     "output_type": "stream",
     "text": [
      "20 days are 1728000 seconds\n"
     ]
    }
   ],
   "source": [
    "print(f\"20 days are {20*24*60*60} seconds\")"
   ]
  },
  {
   "cell_type": "code",
   "execution_count": 10,
   "id": "238b3ac0-d3bf-4272-bd28-1b68efe64f85",
   "metadata": {},
   "outputs": [
    {
     "name": "stdout",
     "output_type": "stream",
     "text": [
      "20 days are 1728000 seconds\n",
      "35 days are 3024000 seconds\n",
      "50 days are 4320000 seconds\n",
      "110 days are 9504000 seconds\n"
     ]
    }
   ],
   "source": [
    "calculation_to_seconds = 24*60*60\n",
    "print(f\"20 days are {20*calculation_to_seconds} seconds\")\n",
    "print(f\"35 days are {35*calculation_to_seconds} seconds\")\n",
    "print(f\"50 days are {50*calculation_to_seconds} seconds\")\n",
    "print(f\"110 days are {110*calculation_to_seconds} seconds\")\n",
    "\n"
   ]
  },
  {
   "cell_type": "code",
   "execution_count": 12,
   "id": "f03ce451-4f86-484a-bf7b-e33aa5cfdb1f",
   "metadata": {},
   "outputs": [
    {
     "name": "stdout",
     "output_type": "stream",
     "text": [
      "20 days are 480 hours\n",
      "35 days are 840 hours\n",
      "50 days are 1200 hours\n",
      "110 days are 2640 hours\n"
     ]
    }
   ],
   "source": [
    "calculation_to_units = 24\n",
    "name_of_unit = \"hours\"\n",
    "print(f\"20 days are {20*calculation_to_units} {name_of_unit}\")\n",
    "print(f\"35 days are {35*calculation_to_units} {name_of_unit}\")\n",
    "print(f\"50 days are {50*calculation_to_units} {name_of_unit}\")\n",
    "print(f\"110 days are {110*calculation_to_units} {name_of_unit}\")\n"
   ]
  },
  {
   "cell_type": "code",
   "execution_count": 14,
   "id": "92ae18e9-d029-45ba-b82b-0382f3a32e6c",
   "metadata": {},
   "outputs": [
    {
     "name": "stdout",
     "output_type": "stream",
     "text": [
      "20 days are 480 hours\n",
      "all good\n"
     ]
    }
   ],
   "source": [
    "calculation_to_units = 24\n",
    "name_of_unit = \"hours\"\n",
    "\n",
    "def days_to_units():\n",
    "    print(f\"20 days are {20*calculation_to_units} {name_of_unit}\")\n",
    "    print(\"all good\")\n",
    "    \n",
    "days_to_units()"
   ]
  },
  {
   "cell_type": "code",
   "execution_count": 18,
   "id": "348fe6fe-711d-432a-a7ea-fb72a53c4535",
   "metadata": {},
   "outputs": [
    {
     "name": "stdout",
     "output_type": "stream",
     "text": [
      "20 days are 480 hours\n",
      "all good\n",
      "35 days are 840 hours\n",
      "all good\n",
      "50 days are 1200 hours\n",
      "all good\n",
      "110 days are 2640 hours\n",
      "all good\n",
      "120 days are 2880 hours\n",
      "all good\n"
     ]
    }
   ],
   "source": [
    "alculation_to_units = 24\n",
    "name_of_unit = \"hours\"\n",
    "\n",
    "def days_to_units(num_of_days):\n",
    "    print(f\"{num_of_days} days are {num_of_days*calculation_to_units} {name_of_unit}\")\n",
    "    print(\"all good\")\n",
    "    \n",
    "days_to_units(20)\n",
    "days_to_units(35)\n",
    "days_to_units(50)\n",
    "days_to_units(110)\n",
    "days_to_units(120)"
   ]
  },
  {
   "cell_type": "code",
   "execution_count": null,
   "id": "c32ed821-89a1-4def-870c-e6ee6898c4c1",
   "metadata": {},
   "outputs": [],
   "source": []
  }
 ],
 "metadata": {
  "kernelspec": {
   "display_name": "Python 3 (ipykernel)",
   "language": "python",
   "name": "python3"
  },
  "language_info": {
   "codemirror_mode": {
    "name": "ipython",
    "version": 3
   },
   "file_extension": ".py",
   "mimetype": "text/x-python",
   "name": "python",
   "nbconvert_exporter": "python",
   "pygments_lexer": "ipython3",
   "version": "3.12.1"
  }
 },
 "nbformat": 4,
 "nbformat_minor": 5
}
